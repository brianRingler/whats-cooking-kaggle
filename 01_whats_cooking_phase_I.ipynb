{
 "cells": [
  {
   "cell_type": "markdown",
   "metadata": {},
   "source": [
    "***\n",
    "# What's Cooking? Phase I\n",
    "***\n",
    "\n",
    "A Kaggle competition to predict the origin of the cuisine based on the ingredients. Using the robust **`RingVision`** Machine Learning Process the objective is to achieve a score above best posted score of **[0.83216](https://www.kaggle.com/c/whats-cooking/leaderboard)**.  The submissions (predictions) will be in CSV format with one column for id and the second for the respected predicted cuisine.  Scoring is based on categorization accuracy.\n",
    "\n",
    "* [Overview](https://www.kaggle.com/c/whats-cooking/overview)\n",
    "* [Data](https://www.kaggle.com/c/whats-cooking/data)\n",
    "* [Rules](https://www.kaggle.com/c/whats-cooking/rules)"
   ]
  },
  {
   "cell_type": "markdown",
   "metadata": {},
   "source": [
    "***\n",
    "# Index\n",
    "***\n",
    "\n",
    "* [**Imports**](#import)\n",
    "* [**Custom Functions**](#cust)\n",
    "* [**Exploratory Data Analysis**](#eda)\n",
    "* [**Feature Engineering/Data Preparing**](#feature)\n",
    "* [**Next Steps**](#next)\n",
    "\n",
    "<a id=\"---\"></a>"
   ]
  },
  {
   "cell_type": "markdown",
   "metadata": {},
   "source": [
    "<a id=\"import\"></a>\n",
    "# Imports"
   ]
  },
  {
   "cell_type": "code",
   "execution_count": 1,
   "metadata": {},
   "outputs": [],
   "source": [
    "# imports\n",
    "import pandas as pd\n",
    "import numpy as np\n",
    "\n",
    "import matplotlib.pyplot as plt\n",
    "import seaborn as sns"
   ]
  },
  {
   "cell_type": "markdown",
   "metadata": {},
   "source": [
    "<a id=\"cust\"></a>\n",
    "# Custom Functions"
   ]
  },
  {
   "cell_type": "code",
   "execution_count": 2,
   "metadata": {
    "code_folding": [
     0
    ]
   },
   "outputs": [],
   "source": [
    "def hist_bins(d_frame, col_name, \n",
    "               title=\"\",y_axis=\"\",x_axis=\"\",adder = 0, start = 0, stop = 0):\n",
    "    '''Create a histogram with adjusted bins'''\n",
    "    bin_edges = np.arange(start, stop + adder, adder)\n",
    "\n",
    "    plt.axvline(d_frame[col_name].median(),color='y',linestyle='--',lw=2,label='Median')\n",
    "    plt.axvline(d_frame[col_name].mean(),color='r',linestyle='--',lw=2,label='Mean')\n",
    "    \n",
    "    plt.title(title,fontsize=14)\n",
    "    plt.ylabel(y_axis,fontsize=14)\n",
    "    plt.xlabel(x_axis,fontsize=14)\n",
    "    plt.xticks(fontsize=14)\n",
    "    plt.yticks(fontsize=14)\n",
    "    plt.legend(fontsize=14)\n",
    "    return plt.hist(d_frame[col_name], bins = bin_edges);"
   ]
  },
  {
   "cell_type": "markdown",
   "metadata": {},
   "source": [
    "<a id=\"eda\"></a>\n",
    "# Exploratory Data Analysis "
   ]
  },
  {
   "cell_type": "code",
   "execution_count": 3,
   "metadata": {},
   "outputs": [],
   "source": [
    "df = pd.read_json('whats_cooking_train.json')\n",
    "new = pd.read_json('whats_cooking_test.json')"
   ]
  },
  {
   "cell_type": "code",
   "execution_count": 4,
   "metadata": {},
   "outputs": [
    {
     "data": {
      "text/html": [
       "<div>\n",
       "<style scoped>\n",
       "    .dataframe tbody tr th:only-of-type {\n",
       "        vertical-align: middle;\n",
       "    }\n",
       "\n",
       "    .dataframe tbody tr th {\n",
       "        vertical-align: top;\n",
       "    }\n",
       "\n",
       "    .dataframe thead th {\n",
       "        text-align: right;\n",
       "    }\n",
       "</style>\n",
       "<table border=\"1\" class=\"dataframe\">\n",
       "  <thead>\n",
       "    <tr style=\"text-align: right;\">\n",
       "      <th></th>\n",
       "      <th>id</th>\n",
       "      <th>cuisine</th>\n",
       "      <th>ingredients</th>\n",
       "    </tr>\n",
       "  </thead>\n",
       "  <tbody>\n",
       "    <tr>\n",
       "      <th>0</th>\n",
       "      <td>10259</td>\n",
       "      <td>greek</td>\n",
       "      <td>[romaine lettuce, black olives, grape tomatoes...</td>\n",
       "    </tr>\n",
       "    <tr>\n",
       "      <th>1</th>\n",
       "      <td>25693</td>\n",
       "      <td>southern_us</td>\n",
       "      <td>[plain flour, ground pepper, salt, tomatoes, g...</td>\n",
       "    </tr>\n",
       "    <tr>\n",
       "      <th>2</th>\n",
       "      <td>20130</td>\n",
       "      <td>filipino</td>\n",
       "      <td>[eggs, pepper, salt, mayonaise, cooking oil, g...</td>\n",
       "    </tr>\n",
       "    <tr>\n",
       "      <th>3</th>\n",
       "      <td>22213</td>\n",
       "      <td>indian</td>\n",
       "      <td>[water, vegetable oil, wheat, salt]</td>\n",
       "    </tr>\n",
       "    <tr>\n",
       "      <th>4</th>\n",
       "      <td>13162</td>\n",
       "      <td>indian</td>\n",
       "      <td>[black pepper, shallots, cornflour, cayenne pe...</td>\n",
       "    </tr>\n",
       "  </tbody>\n",
       "</table>\n",
       "</div>"
      ],
      "text/plain": [
       "      id      cuisine                                        ingredients\n",
       "0  10259        greek  [romaine lettuce, black olives, grape tomatoes...\n",
       "1  25693  southern_us  [plain flour, ground pepper, salt, tomatoes, g...\n",
       "2  20130     filipino  [eggs, pepper, salt, mayonaise, cooking oil, g...\n",
       "3  22213       indian                [water, vegetable oil, wheat, salt]\n",
       "4  13162       indian  [black pepper, shallots, cornflour, cayenne pe..."
      ]
     },
     "execution_count": 4,
     "metadata": {},
     "output_type": "execute_result"
    }
   ],
   "source": [
    "df.head()"
   ]
  },
  {
   "cell_type": "code",
   "execution_count": 5,
   "metadata": {},
   "outputs": [
    {
     "data": {
      "text/html": [
       "<div>\n",
       "<style scoped>\n",
       "    .dataframe tbody tr th:only-of-type {\n",
       "        vertical-align: middle;\n",
       "    }\n",
       "\n",
       "    .dataframe tbody tr th {\n",
       "        vertical-align: top;\n",
       "    }\n",
       "\n",
       "    .dataframe thead th {\n",
       "        text-align: right;\n",
       "    }\n",
       "</style>\n",
       "<table border=\"1\" class=\"dataframe\">\n",
       "  <thead>\n",
       "    <tr style=\"text-align: right;\">\n",
       "      <th></th>\n",
       "      <th>id</th>\n",
       "      <th>cuisine</th>\n",
       "      <th>ingredients</th>\n",
       "    </tr>\n",
       "  </thead>\n",
       "  <tbody>\n",
       "    <tr>\n",
       "      <th>39769</th>\n",
       "      <td>29109</td>\n",
       "      <td>irish</td>\n",
       "      <td>[light brown sugar, granulated sugar, butter, ...</td>\n",
       "    </tr>\n",
       "    <tr>\n",
       "      <th>39770</th>\n",
       "      <td>11462</td>\n",
       "      <td>italian</td>\n",
       "      <td>[KRAFT Zesty Italian Dressing, purple onion, b...</td>\n",
       "    </tr>\n",
       "    <tr>\n",
       "      <th>39771</th>\n",
       "      <td>2238</td>\n",
       "      <td>irish</td>\n",
       "      <td>[eggs, citrus fruit, raisins, sourdough starte...</td>\n",
       "    </tr>\n",
       "    <tr>\n",
       "      <th>39772</th>\n",
       "      <td>41882</td>\n",
       "      <td>chinese</td>\n",
       "      <td>[boneless chicken skinless thigh, minced garli...</td>\n",
       "    </tr>\n",
       "    <tr>\n",
       "      <th>39773</th>\n",
       "      <td>2362</td>\n",
       "      <td>mexican</td>\n",
       "      <td>[green chile, jalapeno chilies, onions, ground...</td>\n",
       "    </tr>\n",
       "  </tbody>\n",
       "</table>\n",
       "</div>"
      ],
      "text/plain": [
       "          id  cuisine                                        ingredients\n",
       "39769  29109    irish  [light brown sugar, granulated sugar, butter, ...\n",
       "39770  11462  italian  [KRAFT Zesty Italian Dressing, purple onion, b...\n",
       "39771   2238    irish  [eggs, citrus fruit, raisins, sourdough starte...\n",
       "39772  41882  chinese  [boneless chicken skinless thigh, minced garli...\n",
       "39773   2362  mexican  [green chile, jalapeno chilies, onions, ground..."
      ]
     },
     "execution_count": 5,
     "metadata": {},
     "output_type": "execute_result"
    }
   ],
   "source": [
    "df.tail()"
   ]
  },
  {
   "cell_type": "markdown",
   "metadata": {},
   "source": [
    "The training data is 39,774 observations with 3 features. The testing data is 9,944 by 2. It does not contain the features 'cuisine' which is the variable we want to predict. "
   ]
  },
  {
   "cell_type": "code",
   "execution_count": 6,
   "metadata": {},
   "outputs": [
    {
     "name": "stdout",
     "output_type": "stream",
     "text": [
      "Shape of Training Data:\t (39774, 3)\n",
      "Shape of Testing Data:\t (9944, 2)\n"
     ]
    }
   ],
   "source": [
    "print(f\"Shape of Training Data:\\t {df.shape}\")\n",
    "print(f\"Shape of Testing Data:\\t {new.shape}\")"
   ]
  },
  {
   "cell_type": "markdown",
   "metadata": {},
   "source": [
    "The features are not missing any values and the data types for each feature should be fine."
   ]
  },
  {
   "cell_type": "code",
   "execution_count": 7,
   "metadata": {},
   "outputs": [
    {
     "name": "stdout",
     "output_type": "stream",
     "text": [
      "<class 'pandas.core.frame.DataFrame'>\n",
      "RangeIndex: 39774 entries, 0 to 39773\n",
      "Data columns (total 3 columns):\n",
      " #   Column       Non-Null Count  Dtype \n",
      "---  ------       --------------  ----- \n",
      " 0   id           39774 non-null  int64 \n",
      " 1   cuisine      39774 non-null  object\n",
      " 2   ingredients  39774 non-null  object\n",
      "dtypes: int64(1), object(2)\n",
      "memory usage: 932.3+ KB\n",
      "None\n",
      "---------------------------------------------\n",
      "id             0\n",
      "cuisine        0\n",
      "ingredients    0\n",
      "dtype: int64\n"
     ]
    }
   ],
   "source": [
    "print(df.info())\n",
    "print('-'*45)\n",
    "print(df.isnull().sum())"
   ]
  },
  {
   "cell_type": "markdown",
   "metadata": {},
   "source": [
    "## Feature Review **`Cuisine`**"
   ]
  },
  {
   "cell_type": "markdown",
   "metadata": {},
   "source": [
    "- Italian, Mexican and Southern_US are the the top three locations and represent about **45%** of the total mix. \n",
    "- There are 20 locations that the list of ingredients could have originated from"
   ]
  },
  {
   "cell_type": "code",
   "execution_count": 8,
   "metadata": {},
   "outputs": [
    {
     "data": {
      "text/plain": [
       "italian         0.197063\n",
       "mexican         0.161865\n",
       "southern_us     0.108614\n",
       "indian          0.075502\n",
       "chinese         0.067205\n",
       "french          0.066526\n",
       "cajun_creole    0.038870\n",
       "thai            0.038694\n",
       "japanese        0.035777\n",
       "greek           0.029542\n",
       "spanish         0.024865\n",
       "korean          0.020868\n",
       "vietnamese      0.020742\n",
       "moroccan        0.020642\n",
       "british         0.020214\n",
       "filipino        0.018982\n",
       "irish           0.016770\n",
       "jamaican        0.013225\n",
       "russian         0.012294\n",
       "brazilian       0.011741\n",
       "Name: cuisine, dtype: float64"
      ]
     },
     "execution_count": 8,
     "metadata": {},
     "output_type": "execute_result"
    }
   ],
   "source": [
    "by_cuisine = df['cuisine'].value_counts(normalize=True)\n",
    "by_cuisine"
   ]
  },
  {
   "cell_type": "code",
   "execution_count": 9,
   "metadata": {},
   "outputs": [
    {
     "name": "stdout",
     "output_type": "stream",
     "text": [
      "Location Count is: 20\n"
     ]
    }
   ],
   "source": [
    "print(f\"Location Count is: {by_cuisine.count()}\")"
   ]
  },
  {
   "cell_type": "code",
   "execution_count": 10,
   "metadata": {},
   "outputs": [
    {
     "data": {
      "image/png": "[encoded data removed]",
      "text/plain": [
       "<Figure size 432x288 with 1 Axes>"
      ]
     },
     "metadata": {
      "needs_background": "light"
     },
     "output_type": "display_data"
    }
   ],
   "source": [
    "plt.barh(list(by_cuisine.index),list(by_cuisine));"
   ]
  },
  {
   "cell_type": "markdown",
   "metadata": {},
   "source": [
    "Our predict value is skewed. Our mean location is around 2,000 predictions and our median is 1,000."
   ]
  },
  {
   "cell_type": "code",
   "execution_count": 11,
   "metadata": {},
   "outputs": [
    {
     "data": {
      "image/png": "[encoded data removed]",
      "text/plain": [
       "<Figure size 432x288 with 1 Axes>"
      ]
     },
     "metadata": {
      "needs_background": "light"
     },
     "output_type": "display_data"
    }
   ],
   "source": [
    "bin_edges = np.arange(450,8000+500,500)\n",
    "plt.axvline(by_cuisine.median(),color='y',linestyle='--',lw=2,label='Median')\n",
    "plt.axvline(by_cuisine.mean(),color='r',linestyle='--',lw=2,label='Mean')\n",
    "plt.legend()\n",
    "plt.hist(by_cuisine, bins=bin_edges);"
   ]
  },
  {
   "cell_type": "code",
   "execution_count": 12,
   "metadata": {},
   "outputs": [
    {
     "data": {
      "text/plain": [
       "Index(['id', 'cuisine', 'ingredients'], dtype='object')"
      ]
     },
     "execution_count": 12,
     "metadata": {},
     "output_type": "execute_result"
    }
   ],
   "source": [
    "df.columns"
   ]
  },
  {
   "cell_type": "markdown",
   "metadata": {},
   "source": [
    "## Feature Review **`Ingredients`**\n",
    "The 'ingredients' feature is a list of ingredients. We will need to convert this list to a list of strings if we want to convert to a document-term-matrix.  Also, adding an ingredient count might be a nice feature we could add that would a predictive value. "
   ]
  },
  {
   "cell_type": "code",
   "execution_count": 13,
   "metadata": {},
   "outputs": [
    {
     "data": {
      "text/plain": [
       "['romaine lettuce',\n",
       " 'black olives',\n",
       " 'grape tomatoes',\n",
       " 'garlic',\n",
       " 'pepper',\n",
       " 'purple onion',\n",
       " 'seasoning',\n",
       " 'garbanzo beans',\n",
       " 'feta cheese crumbles']"
      ]
     },
     "execution_count": 13,
     "metadata": {},
     "output_type": "execute_result"
    }
   ],
   "source": [
    "# first row\n",
    "df.loc[0,'ingredients']"
   ]
  },
  {
   "cell_type": "code",
   "execution_count": 14,
   "metadata": {},
   "outputs": [
    {
     "data": {
      "text/plain": [
       "9"
      ]
     },
     "execution_count": 14,
     "metadata": {},
     "output_type": "execute_result"
    }
   ],
   "source": [
    "# number of ingredients first observation \n",
    "len(df.loc[0,'ingredients'])"
   ]
  },
  {
   "cell_type": "markdown",
   "metadata": {},
   "source": [
    "<a id=\"sum_eda\"></a>\n",
    "## Summary EDA \n",
    "\n",
    "**Observations**\n",
    "- The predict value is skewed but the not bad enough that we should be concerned about a resulting high error rate.\n",
    "- 3 cuisines represent 45% of the predicted origin location \n",
    "- There are 20 locations that we can predict \n",
    "- Italian has the most prediction and will be used for setting the `null accuracy` \n",
    "\n",
    "**To Do**\n",
    "\n",
    "- Create a feature that is the ingredients only\n",
    "- Convert the list if ingredients to a string \n"
   ]
  },
  {
   "cell_type": "markdown",
   "metadata": {},
   "source": [
    "<a id=\"feature\"></a>\n",
    "# Feature Engineering/Data Preparing "
   ]
  },
  {
   "cell_type": "markdown",
   "metadata": {},
   "source": [
    "## Ingredient Count \n",
    "Adding a feature called `num_ingredients` that will provide the count of ingredients for each observation. "
   ]
  },
  {
   "cell_type": "code",
   "execution_count": 15,
   "metadata": {},
   "outputs": [],
   "source": [
    "# add feature num_ingredients\n",
    "df['num_ingredients'] = df['ingredients'].apply(len)"
   ]
  },
  {
   "cell_type": "code",
   "execution_count": 16,
   "metadata": {},
   "outputs": [
    {
     "data": {
      "text/html": [
       "<div>\n",
       "<style scoped>\n",
       "    .dataframe tbody tr th:only-of-type {\n",
       "        vertical-align: middle;\n",
       "    }\n",
       "\n",
       "    .dataframe tbody tr th {\n",
       "        vertical-align: top;\n",
       "    }\n",
       "\n",
       "    .dataframe thead th {\n",
       "        text-align: right;\n",
       "    }\n",
       "</style>\n",
       "<table border=\"1\" class=\"dataframe\">\n",
       "  <thead>\n",
       "    <tr style=\"text-align: right;\">\n",
       "      <th></th>\n",
       "      <th>id</th>\n",
       "      <th>cuisine</th>\n",
       "      <th>ingredients</th>\n",
       "      <th>num_ingredients</th>\n",
       "    </tr>\n",
       "  </thead>\n",
       "  <tbody>\n",
       "    <tr>\n",
       "      <th>0</th>\n",
       "      <td>10259</td>\n",
       "      <td>greek</td>\n",
       "      <td>[romaine lettuce, black olives, grape tomatoes...</td>\n",
       "      <td>9</td>\n",
       "    </tr>\n",
       "    <tr>\n",
       "      <th>1</th>\n",
       "      <td>25693</td>\n",
       "      <td>southern_us</td>\n",
       "      <td>[plain flour, ground pepper, salt, tomatoes, g...</td>\n",
       "      <td>11</td>\n",
       "    </tr>\n",
       "    <tr>\n",
       "      <th>2</th>\n",
       "      <td>20130</td>\n",
       "      <td>filipino</td>\n",
       "      <td>[eggs, pepper, salt, mayonaise, cooking oil, g...</td>\n",
       "      <td>12</td>\n",
       "    </tr>\n",
       "    <tr>\n",
       "      <th>3</th>\n",
       "      <td>22213</td>\n",
       "      <td>indian</td>\n",
       "      <td>[water, vegetable oil, wheat, salt]</td>\n",
       "      <td>4</td>\n",
       "    </tr>\n",
       "    <tr>\n",
       "      <th>4</th>\n",
       "      <td>13162</td>\n",
       "      <td>indian</td>\n",
       "      <td>[black pepper, shallots, cornflour, cayenne pe...</td>\n",
       "      <td>20</td>\n",
       "    </tr>\n",
       "  </tbody>\n",
       "</table>\n",
       "</div>"
      ],
      "text/plain": [
       "      id      cuisine                                        ingredients  \\\n",
       "0  10259        greek  [romaine lettuce, black olives, grape tomatoes...   \n",
       "1  25693  southern_us  [plain flour, ground pepper, salt, tomatoes, g...   \n",
       "2  20130     filipino  [eggs, pepper, salt, mayonaise, cooking oil, g...   \n",
       "3  22213       indian                [water, vegetable oil, wheat, salt]   \n",
       "4  13162       indian  [black pepper, shallots, cornflour, cayenne pe...   \n",
       "\n",
       "   num_ingredients  \n",
       "0                9  \n",
       "1               11  \n",
       "2               12  \n",
       "3                4  \n",
       "4               20  "
      ]
     },
     "execution_count": 16,
     "metadata": {},
     "output_type": "execute_result"
    }
   ],
   "source": [
    "df.head()"
   ]
  },
  {
   "cell_type": "markdown",
   "metadata": {},
   "source": [
    "The ingredient count has a mean of 10 with a standard deviation of 4. "
   ]
  },
  {
   "cell_type": "code",
   "execution_count": 17,
   "metadata": {},
   "outputs": [
    {
     "data": {
      "text/plain": [
       "count    39774.000000\n",
       "mean        10.767713\n",
       "std          4.428978\n",
       "min          1.000000\n",
       "25%          8.000000\n",
       "50%         10.000000\n",
       "75%         13.000000\n",
       "max         65.000000\n",
       "Name: num_ingredients, dtype: float64"
      ]
     },
     "execution_count": 17,
     "metadata": {},
     "output_type": "execute_result"
    }
   ],
   "source": [
    "df['num_ingredients'].describe()"
   ]
  },
  {
   "cell_type": "code",
   "execution_count": 18,
   "metadata": {},
   "outputs": [
    {
     "name": "stdout",
     "output_type": "stream",
     "text": [
      "1-Std Dev: 15.196691000000001\n",
      "2-Std Dev: 19.625669000000002\n",
      "3-Std Dev: 24.054647\n"
     ]
    }
   ],
   "source": [
    "print(f\"1-Std Dev: {10.767713+4.428978}\")\n",
    "print(f\"2-Std Dev: {10.767713+4.428978*2}\")\n",
    "print(f\"3-Std Dev: {10.767713+4.428978*3}\")"
   ]
  },
  {
   "cell_type": "code",
   "execution_count": 19,
   "metadata": {},
   "outputs": [
    {
     "name": "stdout",
     "output_type": "stream",
     "text": [
      "Count > 3 Std Dev: 241\n"
     ]
    }
   ],
   "source": [
    "less_outliers = df.query('num_ingredients < 25')\n",
    "print(f\"Count > 3 Std Dev: {df.shape[0] - less_outliers.shape[0]}\")"
   ]
  },
  {
   "cell_type": "code",
   "execution_count": 20,
   "metadata": {},
   "outputs": [
    {
     "data": {
      "text/plain": [
       "count    39533.000000\n",
       "mean        10.660941\n",
       "std          4.206394\n",
       "min          1.000000\n",
       "25%          8.000000\n",
       "50%         10.000000\n",
       "75%         13.000000\n",
       "max         24.000000\n",
       "Name: num_ingredients, dtype: float64"
      ]
     },
     "execution_count": 20,
     "metadata": {},
     "output_type": "execute_result"
    }
   ],
   "source": [
    "less_outliers['num_ingredients'].describe()"
   ]
  },
  {
   "cell_type": "code",
   "execution_count": 21,
   "metadata": {
    "code_folding": []
   },
   "outputs": [
    {
     "data": {
      "image/png": "[encoded data removed]",
      "text/plain": [
       "<Figure size 864x864 with 2 Axes>"
      ]
     },
     "metadata": {
      "needs_background": "light"
     },
     "output_type": "display_data"
    }
   ],
   "source": [
    "# plot with and withour outliers\n",
    "plt.figure(figsize = [12,12])\n",
    "plt.subplot(2,1,1)\n",
    "bin_edges = np.arange(0,65,1)\n",
    "plt.axvline(df['num_ingredients'].median(),color='y',linestyle='--',lw=2,label='Median')\n",
    "plt.axvline(df['num_ingredients'].mean(),color='r',linestyle='--',lw=2,label='Mean')\n",
    "plt.title('All Data')\n",
    "plt.legend()\n",
    "plt.hist(df['num_ingredients'], bins=bin_edges);\n",
    "\n",
    "plt.subplot(2,1,2)\n",
    "bin_edges = np.arange(0,45,1)\n",
    "plt.axvline(less_outliers['num_ingredients'].median(),color='y',linestyle='--',lw=2,label='Median')\n",
    "plt.axvline(less_outliers['num_ingredients'].mean(),color='r',linestyle='--',lw=2,label='Mean')\n",
    "plt.title('Less Outliers')\n",
    "plt.legend()\n",
    "plt.hist(less_outliers['num_ingredients'], bins=bin_edges);"
   ]
  },
  {
   "cell_type": "markdown",
   "metadata": {},
   "source": [
    "There is not a lot of variation in the number of ingredients. Here we take a look at all cuisines based on the full dataset. Then we remove anything > 3 standard deviations from the mean. The cuisines have a large overlap. We wanted to see more variation which would lead to a better predictor or cuisine origin. "
   ]
  },
  {
   "cell_type": "code",
   "execution_count": 22,
   "metadata": {
    "code_folding": []
   },
   "outputs": [
    {
     "data": {
      "image/png": "[encoded data removed]",
      "text/plain": [
       "<Figure size 576x1080 with 2 Axes>"
      ]
     },
     "metadata": {
      "needs_background": "light"
     },
     "output_type": "display_data"
    }
   ],
   "source": [
    "# boxplot with and without outliers\n",
    "plt.figure(figsize = [8, 15])\n",
    "plt.subplot(2,1,1)\n",
    "plt.xticks(rotation=45)\n",
    "plt.title('All Data')\n",
    "sns.boxplot(x=df['num_ingredients'],y=df['cuisine']);\n",
    "\n",
    "plt.subplot(2,1,2)\n",
    "plt.xticks(rotation=45)\n",
    "plt.title('Less Outliers')\n",
    "sns.boxplot(x=less_outliers['num_ingredients'],y=less_outliers['cuisine']);"
   ]
  },
  {
   "cell_type": "code",
   "execution_count": 23,
   "metadata": {},
   "outputs": [
    {
     "data": {
      "text/plain": [
       "cuisine\n",
       "irish            9.299850\n",
       "brazilian        9.520343\n",
       "southern_us      9.634954\n",
       "british          9.708955\n",
       "japanese         9.735067\n",
       "french           9.817838\n",
       "italian          9.909033\n",
       "filipino        10.000000\n",
       "greek           10.182128\n",
       "russian         10.224949\n",
       "spanish         10.423660\n",
       "mexican         10.877446\n",
       "korean          11.284337\n",
       "chinese         11.982791\n",
       "jamaican        12.214829\n",
       "thai            12.545809\n",
       "cajun_creole    12.617076\n",
       "vietnamese      12.675152\n",
       "indian          12.705961\n",
       "moroccan        12.909866\n",
       "Name: num_ingredients, dtype: float64"
      ]
     },
     "execution_count": 23,
     "metadata": {},
     "output_type": "execute_result"
    }
   ],
   "source": [
    "group = df.groupby(['cuisine',])['num_ingredients'].mean()\n",
    "group = group.sort_values()\n",
    "group"
   ]
  },
  {
   "cell_type": "code",
   "execution_count": 24,
   "metadata": {},
   "outputs": [
    {
     "data": {
      "image/png": "[encoded data removed]",
      "text/plain": [
       "<Figure size 432x288 with 1 Axes>"
      ]
     },
     "metadata": {
      "needs_background": "light"
     },
     "output_type": "display_data"
    }
   ],
   "source": [
    "plt.barh(list(group.index),list(group));"
   ]
  },
  {
   "cell_type": "code",
   "execution_count": 25,
   "metadata": {},
   "outputs": [
    {
     "data": {
      "image/png": "[encoded data removed]",
      "text/plain": [
       "<Figure size 432x288 with 1 Axes>"
      ]
     },
     "metadata": {
      "needs_background": "light"
     },
     "output_type": "display_data"
    }
   ],
   "source": [
    "#plt.figure(figsize = [12,12])\n",
    "bin_edges = np.arange(9,13+0.25,0.25)\n",
    "plt.title('Mean Ingredients by Cuisine')\n",
    "plt.hist(group, bins=bin_edges);"
   ]
  },
  {
   "cell_type": "markdown",
   "metadata": {},
   "source": [
    "Checking the extreme outliers for mistakes.  There are 5 cuisines that have more than 45 ingredients and they do not appear to be correct. "
   ]
  },
  {
   "cell_type": "code",
   "execution_count": 26,
   "metadata": {},
   "outputs": [
    {
     "data": {
      "text/html": [
       "<div>\n",
       "<style scoped>\n",
       "    .dataframe tbody tr th:only-of-type {\n",
       "        vertical-align: middle;\n",
       "    }\n",
       "\n",
       "    .dataframe tbody tr th {\n",
       "        vertical-align: top;\n",
       "    }\n",
       "\n",
       "    .dataframe thead th {\n",
       "        text-align: right;\n",
       "    }\n",
       "</style>\n",
       "<table border=\"1\" class=\"dataframe\">\n",
       "  <thead>\n",
       "    <tr style=\"text-align: right;\">\n",
       "      <th></th>\n",
       "      <th>id</th>\n",
       "      <th>cuisine</th>\n",
       "      <th>ingredients</th>\n",
       "      <th>num_ingredients</th>\n",
       "    </tr>\n",
       "  </thead>\n",
       "  <tbody>\n",
       "    <tr>\n",
       "      <th>10513</th>\n",
       "      <td>49282</td>\n",
       "      <td>mexican</td>\n",
       "      <td>[condensed cream of chicken soup, pepper, refr...</td>\n",
       "      <td>49</td>\n",
       "    </tr>\n",
       "    <tr>\n",
       "      <th>15289</th>\n",
       "      <td>3885</td>\n",
       "      <td>italian</td>\n",
       "      <td>[fettucine, fresh marjoram, minced garlic, oli...</td>\n",
       "      <td>65</td>\n",
       "    </tr>\n",
       "    <tr>\n",
       "      <th>22906</th>\n",
       "      <td>2253</td>\n",
       "      <td>indian</td>\n",
       "      <td>[white vinegar, sparkling lemonade, coconut su...</td>\n",
       "      <td>49</td>\n",
       "    </tr>\n",
       "    <tr>\n",
       "      <th>26103</th>\n",
       "      <td>13049</td>\n",
       "      <td>mexican</td>\n",
       "      <td>[vanilla ice cream, lime, garlic powder, zucch...</td>\n",
       "      <td>52</td>\n",
       "    </tr>\n",
       "    <tr>\n",
       "      <th>30350</th>\n",
       "      <td>13430</td>\n",
       "      <td>brazilian</td>\n",
       "      <td>[marshmallows, fresh corn, cheddar cheese, shr...</td>\n",
       "      <td>59</td>\n",
       "    </tr>\n",
       "  </tbody>\n",
       "</table>\n",
       "</div>"
      ],
      "text/plain": [
       "          id    cuisine                                        ingredients  \\\n",
       "10513  49282    mexican  [condensed cream of chicken soup, pepper, refr...   \n",
       "15289   3885    italian  [fettucine, fresh marjoram, minced garlic, oli...   \n",
       "22906   2253     indian  [white vinegar, sparkling lemonade, coconut su...   \n",
       "26103  13049    mexican  [vanilla ice cream, lime, garlic powder, zucch...   \n",
       "30350  13430  brazilian  [marshmallows, fresh corn, cheddar cheese, shr...   \n",
       "\n",
       "       num_ingredients  \n",
       "10513               49  \n",
       "15289               65  \n",
       "22906               49  \n",
       "26103               52  \n",
       "30350               59  "
      ]
     },
     "execution_count": 26,
     "metadata": {},
     "output_type": "execute_result"
    }
   ],
   "source": [
    "# look at cuisine with ingredient count 45 plus\n",
    "plus_45 = df[df['num_ingredients'] > 40]\n",
    "plus_45.head()"
   ]
  },
  {
   "cell_type": "code",
   "execution_count": 27,
   "metadata": {},
   "outputs": [
    {
     "name": "stdout",
     "output_type": "stream",
     "text": [
      "['fettucine', 'fresh marjoram', 'minced garlic', 'olive oil', 'garlic powder', 'large eggs', 'Alfredo sauce', 'vegetable oil', 'cajun seasoning', 'shredded romano cheese', 'basil dried leaves', 'salt', 'cayenne pepper', 'scallions', 'red bell pepper', 'boneless skinless chicken breast halves', 'soba', 'pasta sauce', 'kosher salt', 'milk', 'fresh ginger', 'ground black pepper', 'flour', 'cooked chicken', 'coarse salt', 'lemon', 'diced tomatoes', 'garlic', 'rice vinegar', 'Neufchâtel', 'garlic cloves', 'dried parsley', 'frozen artichoke hearts', 'penne', 'pepper', 'sweet onion', 'part-skim mozzarella cheese', 'parmigiano reggiano cheese', 'basil leaves', 'onion powder', 'red wine vinegar', 'red pepper flakes', 'orzo', 'crushed red pepper', 'all-purpose flour', 'freshly ground pepper', 'sliced mushrooms', 'panko breadcrumbs', 'plum tomatoes', 'fresh basil', 'fresh leav spinach', 'water', 'sun-dried tomatoes', 'ground pepper', 'grated parmesan cheese', 'boneless skinless chicken breasts', 'chicken cutlets', 'butter', 'multi-grain penne pasta', 'extra-virgin olive oil', 'cilantro leaves', 'green pepper', 'shredded mozzarella cheese', 'fresh parsley', 'spaghetti']\n"
     ]
    }
   ],
   "source": [
    "# italian at 65\n",
    "print(df.loc[15289,'ingredients'])"
   ]
  },
  {
   "cell_type": "code",
   "execution_count": 28,
   "metadata": {},
   "outputs": [
    {
     "name": "stdout",
     "output_type": "stream",
     "text": [
      "['marshmallows', 'fresh corn', 'cheddar cheese', 'shredded coconut', 'water', 'honey', 'baking soda', 'dijon mustard', 'sweet potatoes', 'chicken breasts', 'vegetable oil', 'salt', 'condensed milk', 'candy', 'canola oil', 'eggs', 'brown sugar', 'glutinous rice', 'white onion', 'dashi', 'whole wheat flour', 'oat flour', 'flour', 'boneless skinless chicken breasts', 'fresh thyme leaves', 'sprinkles', 'grated lemon zest', 'ham', 'white sugar', 'avocado', 'chili flakes', 'coconut oil', 'skim milk', 'pepper', 'kale', 'parmesan cheese', 'unsalted butter', 'tapioca starch', 'baking powder', 'parsley', 'vanilla extract', 'cream cheese', 'coconut milk', 'chocolate chips', 'low sodium soy sauce', 'powdered sugar', 'sugar', 'muffin', 'milk', 'olive oil', 'bananas', 'large eggs', 'green onions', 'swiss cheese', 'butter', 'all-purpose flour', 'dark brown sugar', 'panko breadcrumbs', 'low-fat milk']\n"
     ]
    }
   ],
   "source": [
    "# brazilian max at 59\n",
    "print(df.loc[30350,'ingredients'])"
   ]
  },
  {
   "cell_type": "markdown",
   "metadata": {},
   "source": [
    "## Ingredient Length \n",
    "Here we want to explore adding a feature that will be the mean ingredient length for each observation. We can then group by the cuisine and calculate the mean length.. The new feature added will be called:\n",
    "\n",
    "* New Feature Added: `**avg_ingredient_len**`"
   ]
  },
  {
   "cell_type": "code",
   "execution_count": 29,
   "metadata": {},
   "outputs": [
    {
     "name": "stdout",
     "output_type": "stream",
     "text": [
      "Ingredient Count: 9\n"
     ]
    }
   ],
   "source": [
    "# first observation has 9 ingredients \n",
    "ing_cnt= len(df.loc[0,'ingredients'])\n",
    "print(f\"Ingredient Count: {ing_cnt}\")"
   ]
  },
  {
   "cell_type": "code",
   "execution_count": 30,
   "metadata": {},
   "outputs": [
    {
     "data": {
      "text/plain": [
       "['romaine lettuce',\n",
       " 'black olives',\n",
       " 'grape tomatoes',\n",
       " 'garlic',\n",
       " 'pepper',\n",
       " 'purple onion',\n",
       " 'seasoning',\n",
       " 'garbanzo beans',\n",
       " 'feta cheese crumbles']"
      ]
     },
     "execution_count": 30,
     "metadata": {},
     "output_type": "execute_result"
    }
   ],
   "source": [
    "# manually count ingredients should be 9\n",
    "df.loc[0,'ingredients']"
   ]
  },
  {
   "cell_type": "code",
   "execution_count": 31,
   "metadata": {
    "code_folding": []
   },
   "outputs": [
    {
     "data": {
      "text/html": [
       "<div>\n",
       "<style scoped>\n",
       "    .dataframe tbody tr th:only-of-type {\n",
       "        vertical-align: middle;\n",
       "    }\n",
       "\n",
       "    .dataframe tbody tr th {\n",
       "        vertical-align: top;\n",
       "    }\n",
       "\n",
       "    .dataframe thead th {\n",
       "        text-align: right;\n",
       "    }\n",
       "</style>\n",
       "<table border=\"1\" class=\"dataframe\">\n",
       "  <thead>\n",
       "    <tr style=\"text-align: right;\">\n",
       "      <th></th>\n",
       "      <th>id</th>\n",
       "      <th>cuisine</th>\n",
       "      <th>ingredients</th>\n",
       "      <th>num_ingredients</th>\n",
       "      <th>avg_ingredient_len</th>\n",
       "    </tr>\n",
       "  </thead>\n",
       "  <tbody>\n",
       "    <tr>\n",
       "      <th>0</th>\n",
       "      <td>10259</td>\n",
       "      <td>greek</td>\n",
       "      <td>[romaine lettuce, black olives, grape tomatoes...</td>\n",
       "      <td>9</td>\n",
       "      <td>12.00</td>\n",
       "    </tr>\n",
       "    <tr>\n",
       "      <th>1</th>\n",
       "      <td>25693</td>\n",
       "      <td>southern_us</td>\n",
       "      <td>[plain flour, ground pepper, salt, tomatoes, g...</td>\n",
       "      <td>11</td>\n",
       "      <td>10.09</td>\n",
       "    </tr>\n",
       "    <tr>\n",
       "      <th>2</th>\n",
       "      <td>20130</td>\n",
       "      <td>filipino</td>\n",
       "      <td>[eggs, pepper, salt, mayonaise, cooking oil, g...</td>\n",
       "      <td>12</td>\n",
       "      <td>10.33</td>\n",
       "    </tr>\n",
       "    <tr>\n",
       "      <th>3</th>\n",
       "      <td>22213</td>\n",
       "      <td>indian</td>\n",
       "      <td>[water, vegetable oil, wheat, salt]</td>\n",
       "      <td>4</td>\n",
       "      <td>6.75</td>\n",
       "    </tr>\n",
       "    <tr>\n",
       "      <th>4</th>\n",
       "      <td>13162</td>\n",
       "      <td>indian</td>\n",
       "      <td>[black pepper, shallots, cornflour, cayenne pe...</td>\n",
       "      <td>20</td>\n",
       "      <td>10.10</td>\n",
       "    </tr>\n",
       "  </tbody>\n",
       "</table>\n",
       "</div>"
      ],
      "text/plain": [
       "      id      cuisine                                        ingredients  \\\n",
       "0  10259        greek  [romaine lettuce, black olives, grape tomatoes...   \n",
       "1  25693  southern_us  [plain flour, ground pepper, salt, tomatoes, g...   \n",
       "2  20130     filipino  [eggs, pepper, salt, mayonaise, cooking oil, g...   \n",
       "3  22213       indian                [water, vegetable oil, wheat, salt]   \n",
       "4  13162       indian  [black pepper, shallots, cornflour, cayenne pe...   \n",
       "\n",
       "   num_ingredients  avg_ingredient_len  \n",
       "0                9               12.00  \n",
       "1               11               10.09  \n",
       "2               12               10.33  \n",
       "3                4                6.75  \n",
       "4               20               10.10  "
      ]
     },
     "execution_count": 31,
     "metadata": {},
     "output_type": "execute_result"
    }
   ],
   "source": [
    "# calculate the avg ing length add to dataframe\n",
    "num_ingred = 0\n",
    "avg_length =[]\n",
    "for i in df.itertuples():\n",
    "    ing_length = 0\n",
    "    num_ingred = len(i.ingredients)\n",
    "    # get the length each ingredient\n",
    "    for ing in i.ingredients:\n",
    "        ing_length += len(ing)\n",
    "    avg_length.append(round(ing_length / num_ingred,2))\n",
    "    \n",
    "df['avg_ingredient_len'] = avg_length\n",
    "df.head()"
   ]
  },
  {
   "cell_type": "markdown",
   "metadata": {},
   "source": [
    "Looking at the mean ingredient length by cuisine we see that Italian, Mexican and Greek round out the top three.  We know that Italian also has the most predictions. Wondering if looking at the median might provide a different picture? We typically think of Italian as simple and only a few ingredients. Why are they so high? "
   ]
  },
  {
   "cell_type": "code",
   "execution_count": 32,
   "metadata": {},
   "outputs": [
    {
     "data": {
      "text/plain": [
       "cuisine\n",
       "filipino         9.813815\n",
       "japanese        10.050225\n",
       "russian         10.267444\n",
       "korean          10.397602\n",
       "brazilian       10.565268\n",
       "jamaican        10.612433\n",
       "british         10.746716\n",
       "indian          10.842224\n",
       "irish           10.950435\n",
       "vietnamese      11.021321\n",
       "chinese         11.517886\n",
       "moroccan        11.518417\n",
       "southern_us     11.530602\n",
       "spanish         11.720253\n",
       "french          11.909180\n",
       "thai            11.986621\n",
       "cajun_creole    12.022270\n",
       "greek           12.117140\n",
       "mexican         12.167196\n",
       "italian         12.814340\n",
       "Name: avg_ingredient_len, dtype: float64"
      ]
     },
     "execution_count": 32,
     "metadata": {},
     "output_type": "execute_result"
    }
   ],
   "source": [
    "# calculate mean ingredient length by cuisine\n",
    "group2 = df.groupby('cuisine')['avg_ingredient_len'].mean()\n",
    "group2 = group2.sort_values()\n",
    "group2"
   ]
  },
  {
   "cell_type": "code",
   "execution_count": 33,
   "metadata": {},
   "outputs": [
    {
     "name": "stdout",
     "output_type": "stream",
     "text": [
      "Min Mean Ingredient Length by Cuisine: 9.813814569536433\n",
      "Max Mean Ingredient Length by Cuisine: 12.81434039295739\n"
     ]
    }
   ],
   "source": [
    "print(f\"Min Mean Ingredient Length by Cuisine: {group2.min()}\")\n",
    "print(f\"Max Mean Ingredient Length by Cuisine: {group2.max()}\")"
   ]
  },
  {
   "cell_type": "raw",
   "metadata": {},
   "source": [
    "Here we are calcualting the median for each cuisine and the top three are the same with only a small decrease. "
   ]
  },
  {
   "cell_type": "code",
   "execution_count": 34,
   "metadata": {},
   "outputs": [
    {
     "data": {
      "text/plain": [
       "cuisine\n",
       "filipino         9.80\n",
       "japanese        10.00\n",
       "russian         10.24\n",
       "korean          10.31\n",
       "brazilian       10.50\n",
       "jamaican        10.61\n",
       "indian          10.67\n",
       "british         10.88\n",
       "irish           10.88\n",
       "vietnamese      10.94\n",
       "chinese         11.40\n",
       "moroccan        11.50\n",
       "southern_us     11.50\n",
       "spanish         11.77\n",
       "thai            11.83\n",
       "french          11.90\n",
       "cajun_creole    11.93\n",
       "greek           12.00\n",
       "mexican         12.00\n",
       "italian         12.69\n",
       "Name: avg_ingredient_len, dtype: float64"
      ]
     },
     "execution_count": 34,
     "metadata": {},
     "output_type": "execute_result"
    }
   ],
   "source": [
    "# calcualte the median assign to GROUP3\n",
    "group3 = df.groupby('cuisine')['avg_ingredient_len'].median()\n",
    "group3 = group3.sort_values()\n",
    "group3"
   ]
  },
  {
   "cell_type": "code",
   "execution_count": 35,
   "metadata": {},
   "outputs": [
    {
     "name": "stdout",
     "output_type": "stream",
     "text": [
      "Min Median Ingredient Length by Cuisine: 9.8\n",
      "Max Median Ingredient Length by Cuisine: 12.69\n"
     ]
    }
   ],
   "source": [
    "# median \n",
    "print(f\"Min Median Ingredient Length by Cuisine: {group3.min()}\")\n",
    "print(f\"Max Median Ingredient Length by Cuisine: {group3.max()}\")"
   ]
  },
  {
   "cell_type": "markdown",
   "metadata": {},
   "source": [
    "Here we look at two histograms side-by-side of the` mean ingredient length` and `mean ingredient count` **by cuisine**. The length is a little more centered with bimodal peaks in the center. Where the count has its peaks on the edges.  Individually, we do not think either will be beneficial to predicting the cuisine. `However, maybe a ensemble of the two might provide a better predictor`? "
   ]
  },
  {
   "cell_type": "code",
   "execution_count": 36,
   "metadata": {},
   "outputs": [
    {
     "data": {
      "image/png": "[encoded data removed]",
      "text/plain": [
       "<Figure size 864x360 with 2 Axes>"
      ]
     },
     "metadata": {
      "needs_background": "light"
     },
     "output_type": "display_data"
    }
   ],
   "source": [
    "plt.figure(figsize = [12,5])\n",
    "plt.subplot(1,2,1)\n",
    "bin_edges = np.arange(9,13+0.25,0.25)\n",
    "plt.title('Mean Ingredient LENGTH by Cuisine')\n",
    "plt.hist(group2, bins=bin_edges);\n",
    "\n",
    "plt.subplot(1,2,2)\n",
    "bin_edges = np.arange(9,13+0.25,0.25)\n",
    "plt.title('Mean Ingredients by Cuisine')\n",
    "plt.hist(group, bins=bin_edges,color='green');"
   ]
  },
  {
   "cell_type": "code",
   "execution_count": 37,
   "metadata": {},
   "outputs": [
    {
     "data": {
      "image/png": "[encoded data removed]",
      "text/plain": [
       "<Figure size 720x576 with 2 Axes>"
      ]
     },
     "metadata": {
      "needs_background": "light"
     },
     "output_type": "display_data"
    }
   ],
   "source": [
    "# side-by_side plot ingredient length and ingredient count\n",
    "plt.figure(figsize = [10, 8])\n",
    "\n",
    "plt.subplot(1,2,1)\n",
    "plt.title(\"Mean Ingredient Length by Cuisine\")\n",
    "plt.barh(list(group2.index),list(group2));\n",
    "\n",
    "plt.subplot(1,2,2)\n",
    "plt.title(\"Mean Ingredients Count\")\n",
    "plt.barh(list(group.index),list(group),color='green');"
   ]
  },
  {
   "cell_type": "markdown",
   "metadata": {},
   "source": [
    "This is a better look at the mean length and count. Wondering if the difference between the two might be a better feature than the two individual features. The initial assumption is no but it would not take a lot of extra effort to validate a model.  We will add a new feature called `**difference**` which will be the mean length minus the count. A negative value indicates that the number of ingredients for a particular cuisine is greater than the average length of ingredient names. \n",
    "\n",
    "* <font color='blue'>Mean Ingredient LENGTH by Cuisine</font>\n",
    "* <font color='green'>Mean Ingredient COUNT by Cuisine</font>"
   ]
  },
  {
   "cell_type": "code",
   "execution_count": 38,
   "metadata": {
    "code_folding": [
     0
    ]
   },
   "outputs": [
    {
     "data": {
      "image/png": "[encoded data removed]",
      "text/plain": [
       "<Figure size 1080x504 with 1 Axes>"
      ]
     },
     "metadata": {
      "needs_background": "light"
     },
     "output_type": "display_data"
    }
   ],
   "source": [
    "# compare means lenght vs count\n",
    "plt.figure(figsize = [15, 7])\n",
    "# mean ingredient length by cuisine blue\n",
    "mu_ing_len = list(group2.sort_index())\n",
    "# mean ingredient count by cuisine green\n",
    "mu_ing_count = list(group.sort_index())\n",
    "# this could be group or group2 just need labels a - z\n",
    "labels = sorted(group2.index) \n",
    "\n",
    "x = np.arange(len(labels))  \n",
    "width = 0.35 # Width of bars\n",
    "\n",
    "plt.bar(x-width/2, mu_ing_len, width,\n",
    "        label=\"Mean Ingredient Length by Cuisine\",color='blue')\n",
    "plt.bar(x+width/2, mu_ing_count, width,\n",
    "        label=\"Mean Ingredient Count by Cuisine\",color='green') \n",
    "\n",
    "plt.title(\"Mean Ingredient Length vs Count by Cuisine\",fontweight='bold')\n",
    "plt.xticks(ticks=x,labels=labels,rotation=45)\n",
    "plt.legend();\n"
   ]
  },
  {
   "cell_type": "markdown",
   "metadata": {},
   "source": [
    "## Difference Feature Add \n",
    "We will add a new feature called `**difference**` which will be the mean length minus the count. A negative value indicates that the number of ingredients for a particular cuisine is greater than the average length of ingredient names. \n",
    "> `avg_ingredient_len` - `num_ingredients` = **`difference`**\n",
    "\n",
    "Where positive values indicate avg ingredient length is greater than number of ingredients."
   ]
  },
  {
   "cell_type": "code",
   "execution_count": 39,
   "metadata": {},
   "outputs": [
    {
     "data": {
      "text/html": [
       "<div>\n",
       "<style scoped>\n",
       "    .dataframe tbody tr th:only-of-type {\n",
       "        vertical-align: middle;\n",
       "    }\n",
       "\n",
       "    .dataframe tbody tr th {\n",
       "        vertical-align: top;\n",
       "    }\n",
       "\n",
       "    .dataframe thead th {\n",
       "        text-align: right;\n",
       "    }\n",
       "</style>\n",
       "<table border=\"1\" class=\"dataframe\">\n",
       "  <thead>\n",
       "    <tr style=\"text-align: right;\">\n",
       "      <th></th>\n",
       "      <th>id</th>\n",
       "      <th>cuisine</th>\n",
       "      <th>ingredients</th>\n",
       "      <th>num_ingredients</th>\n",
       "      <th>avg_ingredient_len</th>\n",
       "      <th>difference</th>\n",
       "    </tr>\n",
       "  </thead>\n",
       "  <tbody>\n",
       "    <tr>\n",
       "      <th>0</th>\n",
       "      <td>10259</td>\n",
       "      <td>greek</td>\n",
       "      <td>[romaine lettuce, black olives, grape tomatoes...</td>\n",
       "      <td>9</td>\n",
       "      <td>12.00</td>\n",
       "      <td>3.00</td>\n",
       "    </tr>\n",
       "    <tr>\n",
       "      <th>1</th>\n",
       "      <td>25693</td>\n",
       "      <td>southern_us</td>\n",
       "      <td>[plain flour, ground pepper, salt, tomatoes, g...</td>\n",
       "      <td>11</td>\n",
       "      <td>10.09</td>\n",
       "      <td>-0.91</td>\n",
       "    </tr>\n",
       "    <tr>\n",
       "      <th>2</th>\n",
       "      <td>20130</td>\n",
       "      <td>filipino</td>\n",
       "      <td>[eggs, pepper, salt, mayonaise, cooking oil, g...</td>\n",
       "      <td>12</td>\n",
       "      <td>10.33</td>\n",
       "      <td>-1.67</td>\n",
       "    </tr>\n",
       "    <tr>\n",
       "      <th>3</th>\n",
       "      <td>22213</td>\n",
       "      <td>indian</td>\n",
       "      <td>[water, vegetable oil, wheat, salt]</td>\n",
       "      <td>4</td>\n",
       "      <td>6.75</td>\n",
       "      <td>2.75</td>\n",
       "    </tr>\n",
       "    <tr>\n",
       "      <th>4</th>\n",
       "      <td>13162</td>\n",
       "      <td>indian</td>\n",
       "      <td>[black pepper, shallots, cornflour, cayenne pe...</td>\n",
       "      <td>20</td>\n",
       "      <td>10.10</td>\n",
       "      <td>-9.90</td>\n",
       "    </tr>\n",
       "  </tbody>\n",
       "</table>\n",
       "</div>"
      ],
      "text/plain": [
       "      id      cuisine                                        ingredients  \\\n",
       "0  10259        greek  [romaine lettuce, black olives, grape tomatoes...   \n",
       "1  25693  southern_us  [plain flour, ground pepper, salt, tomatoes, g...   \n",
       "2  20130     filipino  [eggs, pepper, salt, mayonaise, cooking oil, g...   \n",
       "3  22213       indian                [water, vegetable oil, wheat, salt]   \n",
       "4  13162       indian  [black pepper, shallots, cornflour, cayenne pe...   \n",
       "\n",
       "   num_ingredients  avg_ingredient_len  difference  \n",
       "0                9               12.00        3.00  \n",
       "1               11               10.09       -0.91  \n",
       "2               12               10.33       -1.67  \n",
       "3                4                6.75        2.75  \n",
       "4               20               10.10       -9.90  "
      ]
     },
     "execution_count": 39,
     "metadata": {},
     "output_type": "execute_result"
    }
   ],
   "source": [
    "# create new feature and add to the dataframe \n",
    "df['difference'] = df['avg_ingredient_len'] - df['num_ingredients']\n",
    "df.head()"
   ]
  },
  {
   "cell_type": "markdown",
   "metadata": {},
   "source": [
    "## Ingredients as String \n",
    "We will eventually use CountVectorizer with the feature ingredients to create a document-term-matrix. Currently 'ingredients' is an actual Python list. We need to convert this to a regular string and we should be fine. Including the brackets will not be an issue as they will be omitted with the `token_pattern`.  The apostrophes might add value to the process. If not we can remove later on. "
   ]
  },
  {
   "cell_type": "code",
   "execution_count": 40,
   "metadata": {},
   "outputs": [],
   "source": [
    "# convert ingredients feature to a string\n",
    "df['ingredients_str'] = df['ingredients'].astype(str)"
   ]
  },
  {
   "cell_type": "code",
   "execution_count": 41,
   "metadata": {},
   "outputs": [
    {
     "data": {
      "text/html": [
       "<div>\n",
       "<style scoped>\n",
       "    .dataframe tbody tr th:only-of-type {\n",
       "        vertical-align: middle;\n",
       "    }\n",
       "\n",
       "    .dataframe tbody tr th {\n",
       "        vertical-align: top;\n",
       "    }\n",
       "\n",
       "    .dataframe thead th {\n",
       "        text-align: right;\n",
       "    }\n",
       "</style>\n",
       "<table border=\"1\" class=\"dataframe\">\n",
       "  <thead>\n",
       "    <tr style=\"text-align: right;\">\n",
       "      <th></th>\n",
       "      <th>id</th>\n",
       "      <th>cuisine</th>\n",
       "      <th>ingredients</th>\n",
       "      <th>num_ingredients</th>\n",
       "      <th>avg_ingredient_len</th>\n",
       "      <th>difference</th>\n",
       "      <th>ingredients_str</th>\n",
       "    </tr>\n",
       "  </thead>\n",
       "  <tbody>\n",
       "    <tr>\n",
       "      <th>0</th>\n",
       "      <td>10259</td>\n",
       "      <td>greek</td>\n",
       "      <td>[romaine lettuce, black olives, grape tomatoes...</td>\n",
       "      <td>9</td>\n",
       "      <td>12.00</td>\n",
       "      <td>3.00</td>\n",
       "      <td>['romaine lettuce', 'black olives', 'grape tom...</td>\n",
       "    </tr>\n",
       "    <tr>\n",
       "      <th>1</th>\n",
       "      <td>25693</td>\n",
       "      <td>southern_us</td>\n",
       "      <td>[plain flour, ground pepper, salt, tomatoes, g...</td>\n",
       "      <td>11</td>\n",
       "      <td>10.09</td>\n",
       "      <td>-0.91</td>\n",
       "      <td>['plain flour', 'ground pepper', 'salt', 'toma...</td>\n",
       "    </tr>\n",
       "  </tbody>\n",
       "</table>\n",
       "</div>"
      ],
      "text/plain": [
       "      id      cuisine                                        ingredients  \\\n",
       "0  10259        greek  [romaine lettuce, black olives, grape tomatoes...   \n",
       "1  25693  southern_us  [plain flour, ground pepper, salt, tomatoes, g...   \n",
       "\n",
       "   num_ingredients  avg_ingredient_len  difference  \\\n",
       "0                9               12.00        3.00   \n",
       "1               11               10.09       -0.91   \n",
       "\n",
       "                                     ingredients_str  \n",
       "0  ['romaine lettuce', 'black olives', 'grape tom...  \n",
       "1  ['plain flour', 'ground pepper', 'salt', 'toma...  "
      ]
     },
     "execution_count": 41,
     "metadata": {},
     "output_type": "execute_result"
    }
   ],
   "source": [
    "df.head(2)"
   ]
  },
  {
   "cell_type": "code",
   "execution_count": 42,
   "metadata": {},
   "outputs": [
    {
     "name": "stdout",
     "output_type": "stream",
     "text": [
      "[\n",
      "]\n",
      "'romaine lettuce'\n"
     ]
    }
   ],
   "source": [
    "# validate what we did is correct. grab the first observation, print first and last characters '[' and ']'\n",
    "# print the fist word of string 'romaine lettuce'\n",
    "validate = df.loc[0,'ingredients_str']\n",
    "print(validate[0])\n",
    "print(validate[-1])\n",
    "print(validate[1:18])"
   ]
  },
  {
   "cell_type": "markdown",
   "metadata": {},
   "source": [
    "## Custom Feature Function \n",
    "Last we want to create a custom function that will take a dataframe and create our three new features. The function will be called: **`new_features`** and will take one argument which is the name of the dataframe. We can validate that it works on the test data that was imported but not part of EDA."
   ]
  },
  {
   "cell_type": "code",
   "execution_count": 43,
   "metadata": {},
   "outputs": [],
   "source": [
    "def new_features(df_name):\n",
    "    '''Create 4 new features for given dataframe'''\n",
    "    # create feature 1 avg ingredient length\n",
    "    num_ingred = 0\n",
    "    avg_length =[]\n",
    "    for i in df_name.itertuples():\n",
    "        ing_length = 0\n",
    "        num_ingred = len(i.ingredients)\n",
    "        # get the length each ingredient\n",
    "        for ing in i.ingredients:\n",
    "            ing_length += len(ing)\n",
    "        avg_length.append(round(ing_length / num_ingred,2))\n",
    "    df_name['avg_ingredients_len'] = avg_length  \n",
    "    # create feature 2 count of ingredients \n",
    "    df_name['num_ingredients'] = df_name['ingredients'].apply(len)\n",
    "    # create feature 3 avg ingredient length\n",
    "    df_name['difference'] = df_name['avg_ingredients_len'] - df_name['num_ingredients']\n",
    "    # create feature 4 convert ingredients from list to string \n",
    "    df_name['ingredients_str'] = df_name['ingredients'].astype('str')\n",
    "    return df_name"
   ]
  },
  {
   "cell_type": "markdown",
   "metadata": {},
   "source": [
    "Apply the function to the dataset **`new`** and validate all four columns have been added and are correct.  "
   ]
  },
  {
   "cell_type": "code",
   "execution_count": 44,
   "metadata": {},
   "outputs": [
    {
     "name": "stdout",
     "output_type": "stream",
     "text": [
      "<class 'pandas.core.frame.DataFrame'>\n",
      "RangeIndex: 9944 entries, 0 to 9943\n",
      "Data columns (total 2 columns):\n",
      " #   Column       Non-Null Count  Dtype \n",
      "---  ------       --------------  ----- \n",
      " 0   id           9944 non-null   int64 \n",
      " 1   ingredients  9944 non-null   object\n",
      "dtypes: int64(1), object(1)\n",
      "memory usage: 155.5+ KB\n"
     ]
    }
   ],
   "source": [
    "new.info()"
   ]
  },
  {
   "cell_type": "code",
   "execution_count": 45,
   "metadata": {},
   "outputs": [
    {
     "data": {
      "text/html": [
       "<div>\n",
       "<style scoped>\n",
       "    .dataframe tbody tr th:only-of-type {\n",
       "        vertical-align: middle;\n",
       "    }\n",
       "\n",
       "    .dataframe tbody tr th {\n",
       "        vertical-align: top;\n",
       "    }\n",
       "\n",
       "    .dataframe thead th {\n",
       "        text-align: right;\n",
       "    }\n",
       "</style>\n",
       "<table border=\"1\" class=\"dataframe\">\n",
       "  <thead>\n",
       "    <tr style=\"text-align: right;\">\n",
       "      <th></th>\n",
       "      <th>id</th>\n",
       "      <th>ingredients</th>\n",
       "      <th>avg_ingredients_len</th>\n",
       "      <th>num_ingredients</th>\n",
       "      <th>difference</th>\n",
       "      <th>ingredients_str</th>\n",
       "    </tr>\n",
       "  </thead>\n",
       "  <tbody>\n",
       "    <tr>\n",
       "      <th>0</th>\n",
       "      <td>18009</td>\n",
       "      <td>[baking powder, eggs, all-purpose flour, raisi...</td>\n",
       "      <td>9.33</td>\n",
       "      <td>6</td>\n",
       "      <td>3.33</td>\n",
       "      <td>['baking powder', 'eggs', 'all-purpose flour',...</td>\n",
       "    </tr>\n",
       "    <tr>\n",
       "      <th>1</th>\n",
       "      <td>28583</td>\n",
       "      <td>[sugar, egg yolks, corn starch, cream of tarta...</td>\n",
       "      <td>10.27</td>\n",
       "      <td>11</td>\n",
       "      <td>-0.73</td>\n",
       "      <td>['sugar', 'egg yolks', 'corn starch', 'cream o...</td>\n",
       "    </tr>\n",
       "    <tr>\n",
       "      <th>2</th>\n",
       "      <td>41580</td>\n",
       "      <td>[sausage links, fennel bulb, fronds, olive oil...</td>\n",
       "      <td>9.67</td>\n",
       "      <td>6</td>\n",
       "      <td>3.67</td>\n",
       "      <td>['sausage links', 'fennel bulb', 'fronds', 'ol...</td>\n",
       "    </tr>\n",
       "    <tr>\n",
       "      <th>3</th>\n",
       "      <td>29752</td>\n",
       "      <td>[meat cuts, file powder, smoked sausage, okra,...</td>\n",
       "      <td>12.00</td>\n",
       "      <td>21</td>\n",
       "      <td>-9.00</td>\n",
       "      <td>['meat cuts', 'file powder', 'smoked sausage',...</td>\n",
       "    </tr>\n",
       "    <tr>\n",
       "      <th>4</th>\n",
       "      <td>35687</td>\n",
       "      <td>[ground black pepper, salt, sausage casings, l...</td>\n",
       "      <td>13.00</td>\n",
       "      <td>8</td>\n",
       "      <td>5.00</td>\n",
       "      <td>['ground black pepper', 'salt', 'sausage casin...</td>\n",
       "    </tr>\n",
       "    <tr>\n",
       "      <th>5</th>\n",
       "      <td>38527</td>\n",
       "      <td>[baking powder, all-purpose flour, peach slice...</td>\n",
       "      <td>11.67</td>\n",
       "      <td>9</td>\n",
       "      <td>2.67</td>\n",
       "      <td>['baking powder', 'all-purpose flour', 'peach ...</td>\n",
       "    </tr>\n",
       "    <tr>\n",
       "      <th>6</th>\n",
       "      <td>19666</td>\n",
       "      <td>[grape juice, orange, white zinfandel]</td>\n",
       "      <td>10.67</td>\n",
       "      <td>3</td>\n",
       "      <td>7.67</td>\n",
       "      <td>['grape juice', 'orange', 'white zinfandel']</td>\n",
       "    </tr>\n",
       "    <tr>\n",
       "      <th>7</th>\n",
       "      <td>41217</td>\n",
       "      <td>[ground ginger, white pepper, green onions, or...</td>\n",
       "      <td>12.06</td>\n",
       "      <td>16</td>\n",
       "      <td>-3.94</td>\n",
       "      <td>['ground ginger', 'white pepper', 'green onion...</td>\n",
       "    </tr>\n",
       "    <tr>\n",
       "      <th>8</th>\n",
       "      <td>28753</td>\n",
       "      <td>[diced onions, taco seasoning mix, all-purpose...</td>\n",
       "      <td>16.71</td>\n",
       "      <td>17</td>\n",
       "      <td>-0.29</td>\n",
       "      <td>['diced onions', 'taco seasoning mix', 'all-pu...</td>\n",
       "    </tr>\n",
       "    <tr>\n",
       "      <th>9</th>\n",
       "      <td>22659</td>\n",
       "      <td>[eggs, cherries, dates, dark muscovado sugar, ...</td>\n",
       "      <td>9.19</td>\n",
       "      <td>16</td>\n",
       "      <td>-6.81</td>\n",
       "      <td>['eggs', 'cherries', 'dates', 'dark muscovado ...</td>\n",
       "    </tr>\n",
       "  </tbody>\n",
       "</table>\n",
       "</div>"
      ],
      "text/plain": [
       "      id                                        ingredients  \\\n",
       "0  18009  [baking powder, eggs, all-purpose flour, raisi...   \n",
       "1  28583  [sugar, egg yolks, corn starch, cream of tarta...   \n",
       "2  41580  [sausage links, fennel bulb, fronds, olive oil...   \n",
       "3  29752  [meat cuts, file powder, smoked sausage, okra,...   \n",
       "4  35687  [ground black pepper, salt, sausage casings, l...   \n",
       "5  38527  [baking powder, all-purpose flour, peach slice...   \n",
       "6  19666             [grape juice, orange, white zinfandel]   \n",
       "7  41217  [ground ginger, white pepper, green onions, or...   \n",
       "8  28753  [diced onions, taco seasoning mix, all-purpose...   \n",
       "9  22659  [eggs, cherries, dates, dark muscovado sugar, ...   \n",
       "\n",
       "   avg_ingredients_len  num_ingredients  difference  \\\n",
       "0                 9.33                6        3.33   \n",
       "1                10.27               11       -0.73   \n",
       "2                 9.67                6        3.67   \n",
       "3                12.00               21       -9.00   \n",
       "4                13.00                8        5.00   \n",
       "5                11.67                9        2.67   \n",
       "6                10.67                3        7.67   \n",
       "7                12.06               16       -3.94   \n",
       "8                16.71               17       -0.29   \n",
       "9                 9.19               16       -6.81   \n",
       "\n",
       "                                     ingredients_str  \n",
       "0  ['baking powder', 'eggs', 'all-purpose flour',...  \n",
       "1  ['sugar', 'egg yolks', 'corn starch', 'cream o...  \n",
       "2  ['sausage links', 'fennel bulb', 'fronds', 'ol...  \n",
       "3  ['meat cuts', 'file powder', 'smoked sausage',...  \n",
       "4  ['ground black pepper', 'salt', 'sausage casin...  \n",
       "5  ['baking powder', 'all-purpose flour', 'peach ...  \n",
       "6       ['grape juice', 'orange', 'white zinfandel']  \n",
       "7  ['ground ginger', 'white pepper', 'green onion...  \n",
       "8  ['diced onions', 'taco seasoning mix', 'all-pu...  \n",
       "9  ['eggs', 'cherries', 'dates', 'dark muscovado ...  "
      ]
     },
     "execution_count": 45,
     "metadata": {},
     "output_type": "execute_result"
    }
   ],
   "source": [
    "# apply custom function to the dataset **new**\n",
    "df_new_validate = new_features(new)\n",
    "df_new_validate.head(10)"
   ]
  },
  {
   "cell_type": "code",
   "execution_count": 46,
   "metadata": {},
   "outputs": [
    {
     "name": "stdout",
     "output_type": "stream",
     "text": [
      "<class 'pandas.core.frame.DataFrame'>\n",
      "RangeIndex: 9944 entries, 0 to 9943\n",
      "Data columns (total 6 columns):\n",
      " #   Column               Non-Null Count  Dtype  \n",
      "---  ------               --------------  -----  \n",
      " 0   id                   9944 non-null   int64  \n",
      " 1   ingredients          9944 non-null   object \n",
      " 2   avg_ingredients_len  9944 non-null   float64\n",
      " 3   num_ingredients      9944 non-null   int64  \n",
      " 4   difference           9944 non-null   float64\n",
      " 5   ingredients_str      9944 non-null   object \n",
      "dtypes: float64(2), int64(2), object(2)\n",
      "memory usage: 466.2+ KB\n"
     ]
    }
   ],
   "source": [
    "new.info()"
   ]
  },
  {
   "cell_type": "markdown",
   "metadata": {},
   "source": [
    "<a id=\"sum_feature\"></a>\n",
    "## Summary Feature Engineering/Data Preparing \n",
    "\n",
    "**Observations**\n",
    "- Created feature (1): `Number of Ingredients` which is the count of ingredients in each cuisine\n",
    "- Created feature (2): `Ingredient Length`  which is the mean length of each ingredient for each cuisine. \n",
    "- Created feature (3): `Difference` which is the mean length if ingredients minus the count of ingredients\n",
    "- Created feature (4): `Ingredients String` convert the list of ingredients to one string per observation \n",
    "- Created a custom function `new_features` that can be used to convert datasets to desired format \n",
    "- Number of ingredients and length will probably not add value\n",
    "- `Italian` will be used for `null accuracy`  Score\n",
    "\n",
    "**To Do**\n",
    "- [x] Create a feature that is the difference of count of ingredients and mean ingredient length \n",
    "- [x] Convert the list of ingredients to a string \n",
    "- [ ] Test model to see if feature 3 produces better than feature 1 and 2. The model should not contain all features. 3 is a product of features 1 and 2. They will have high correlation that will lead to model error.  \n",
    "- [ ] Use Italian for null accuracy score\n",
    "- [ ] Do we want to scale added features? Maybe simple min-max? "
   ]
  },
  {
   "cell_type": "markdown",
   "metadata": {},
   "source": [
    "<a id=\"next\"></a>\n",
    "# Next Steps"
   ]
  },
  {
   "cell_type": "markdown",
   "metadata": {},
   "source": [
    "The initial EDA and feature engineering process is completed. Based on the findings and information learned we will move into feature selection which will be rather simple. We have very few features and we already know based on the statistical analysis those engineered features will probably not add value. We can select our features as part of model selection as we want to test the importance.   \n",
    "\n",
    "* Feature Selection\n",
    "* Training and Testing Data\n",
    "* Algorithm Metric **Using accuracy score**\n",
    "* Model Selection and Evaluation "
   ]
  },
  {
   "cell_type": "code",
   "execution_count": null,
   "metadata": {},
   "outputs": [],
   "source": []
  },
  {
   "cell_type": "code",
   "execution_count": null,
   "metadata": {},
   "outputs": [],
   "source": []
  }
 ],
 "metadata": {
  "hide_input": false,
  "kernelspec": {
   "display_name": "Python 3",
   "language": "python",
   "name": "python3"
  },
  "language_info": {
   "codemirror_mode": {
    "name": "ipython",
    "version": 3
   },
   "file_extension": ".py",
   "mimetype": "text/x-python",
   "name": "python",
   "nbconvert_exporter": "python",
   "pygments_lexer": "ipython3",
   "version": "3.7.7"
  },
  "latex_envs": {
   "LaTeX_envs_menu_present": true,
   "autoclose": false,
   "autocomplete": true,
   "bibliofile": "biblio.bib",
   "cite_by": "apalike",
   "current_citInitial": 1,
   "eqLabelWithNumbers": true,
   "eqNumInitial": 1,
   "hotkeys": {
    "equation": "Ctrl-E",
    "itemize": "Ctrl-I"
   },
   "labels_anchors": false,
   "latex_user_defs": false,
   "report_style_numbering": false,
   "user_envs_cfg": false
  },
  "toc": {
   "base_numbering": 1,
   "nav_menu": {},
   "number_sections": true,
   "sideBar": true,
   "skip_h1_title": false,
   "title_cell": "Table of Contents",
   "title_sidebar": "Contents",
   "toc_cell": false,
   "toc_position": {},
   "toc_section_display": true,
   "toc_window_display": false
  },
  "varInspector": {
   "cols": {
    "lenName": 16,
    "lenType": 16,
    "lenVar": 40
   },
   "kernels_config": {
    "python": {
     "delete_cmd_postfix": "",
     "delete_cmd_prefix": "del ",
     "library": "var_list.py",
     "varRefreshCmd": "print(var_dic_list())"
    },
    "r": {
     "delete_cmd_postfix": ") ",
     "delete_cmd_prefix": "rm(",
     "library": "var_list.r",
     "varRefreshCmd": "cat(var_dic_list()) "
    }
   },
   "types_to_exclude": [
    "module",
    "function",
    "builtin_function_or_method",
    "instance",
    "_Feature"
   ],
   "window_display": false
  }
 },
 "nbformat": 4,
 "nbformat_minor": 4
}
